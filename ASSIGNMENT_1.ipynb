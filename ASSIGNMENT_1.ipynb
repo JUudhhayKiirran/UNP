{
  "nbformat": 4,
  "nbformat_minor": 0,
  "metadata": {
    "colab": {
      "name": "ASSIGNMENT 1",
      "provenance": []
    },
    "kernelspec": {
      "name": "python3",
      "display_name": "Python 3"
    },
    "language_info": {
      "name": "python"
    }
  },
  "cells": [
    {
      "cell_type": "code",
      "execution_count": null,
      "metadata": {
        "id": "yry5cfCqeVMe"
      },
      "outputs": [],
      "source": [
        ""
      ]
    },
    {
      "cell_type": "markdown",
      "source": [
        "Problem-1\n",
        "Your friend measures his body temperature using a thermometer and finds the\n",
        "reading to be 100 degree Farenheit. Can you please let us know the reading in Celsius scale?"
      ],
      "metadata": {
        "id": "yQbzBIy8edTq"
      }
    },
    {
      "cell_type": "code",
      "source": [
        "F = 100\n",
        "c = (F-32)*5/9\n",
        "print(c)"
      ],
      "metadata": {
        "colab": {
          "base_uri": "https://localhost:8080/"
        },
        "id": "sTZPq2w6ej4p",
        "outputId": "4f35acc6-2c65-4962-8a00-83fca912f2aa"
      },
      "execution_count": 1,
      "outputs": [
        {
          "output_type": "stream",
          "name": "stdout",
          "text": [
            "37.77777777777778\n"
          ]
        }
      ]
    },
    {
      "cell_type": "markdown",
      "source": [
        "Problem-2\n",
        "The cost of producing x unit of item in a factory is y. Cost y is related\n",
        "to unit x by the following formula\n",
        "y= ax^2+bx+c where\n",
        "a, b, c are constants having value 2, 5, 1020 respectively.\n",
        "In this text (not in python language) ^ represents raised to the power.\n",
        "If management wants to produce 10,000 quantities of product, please let us know\n",
        "the average manufacturing cost for a single item."
      ],
      "metadata": {
        "id": "ASh7hISQewIG"
      }
    },
    {
      "cell_type": "code",
      "source": [
        "a = 2\n",
        "b = 5\n",
        "c = 1020\n",
        "x = 10000\n",
        "y = (a*(x**2))+(b*x)+c\n",
        "y1=y/10000\n",
        "print(y1)"
      ],
      "metadata": {
        "colab": {
          "base_uri": "https://localhost:8080/"
        },
        "id": "tWPaazA8e2xC",
        "outputId": "f07f3340-f91e-4298-a4c6-24610627b432"
      },
      "execution_count": 2,
      "outputs": [
        {
          "output_type": "stream",
          "name": "stdout",
          "text": [
            "20005.102\n"
          ]
        }
      ]
    }
  ]
}