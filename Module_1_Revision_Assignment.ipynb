{
  "nbformat": 4,
  "nbformat_minor": 0,
  "metadata": {
    "colab": {
      "name": "copy ofModule 1 Revision Assignment.ipynb",
      "provenance": [],
      "collapsed_sections": [],
      "include_colab_link": true
    },
    "kernelspec": {
      "name": "python3",
      "display_name": "Python 3"
    },
    "language_info": {
      "name": "python"
    }
  },
  "cells": [
    {
      "cell_type": "markdown",
      "metadata": {
        "id": "view-in-github",
        "colab_type": "text"
      },
      "source": [
        "<a href=\"https://colab.research.google.com/github/JUudhhayKiirran/UNP/blob/main/Module_1_Revision_Assignment.ipynb\" target=\"_parent\"><img src=\"https://colab.research.google.com/assets/colab-badge.svg\" alt=\"Open In Colab\"/></a>"
      ]
    },
    {
      "cell_type": "markdown",
      "source": [
        "### About the dataset\n",
        "Housing dataset contains the information of the properties sold in the city of \"Nashville\" over a sapn of 40 years. It contains all the necessary information like the area of the property, amount it was sold for, number of rooms that the property has etc. Our aim is to find some interesting insights from the data.\n",
        "\n",
        "### Loading data\n",
        "1. Import the \"housing\" data using appropriate functions.\n",
        "\n",
        "\n",
        "### Cleaning data\n",
        "1. Replace the missing values with appropriate approximations\n",
        "2. Rename the columns to better suited names\n",
        "3. Extract the month and year from the sale date.\n",
        "4. Extract the pin number from the property address\n",
        "\n",
        "\n",
        "### EDA\n",
        "Use appropriate plots and functions to answer the following questions.\n",
        "\n",
        "1. How has the price of properties changed over the years\n",
        "2. Does a specific month or span of months have the highest property prices?\n",
        "3. For what purpose were the properties generally purchased?\n",
        "4. What is the average age of the properties?\n",
        "5. Have the age of houses affected the price?\n",
        "6. Have the number of rooms in the house affected the price?\n",
        "7. Does the size of the property (no. of acres) have any influence in its price?\n",
        "8. Are houses located in specific pin numbers expensive over the others?\n",
        "9. How have house prices changed in the 21st centuary as supposed to 20th centuary. "
      ],
      "metadata": {
        "id": "NjbHOSgzaN1h"
      }
    },
    {
      "cell_type": "markdown",
      "source": [
        "IMPORTING LIBRARIES"
      ],
      "metadata": {
        "id": "e3SJX_CJ2h-F"
      }
    },
    {
      "cell_type": "code",
      "source": [
        "import numpy as np\n",
        "import pandas as pd\n",
        "import matplotlib.pyplot as plt\n",
        "import seaborn as sns\n",
        "import math\n",
        "sns.set(color_codes=True)"
      ],
      "metadata": {
        "id": "4W53T1s6Y3IN"
      },
      "execution_count": 2,
      "outputs": []
    },
    {
      "cell_type": "markdown",
      "source": [
        "**LOADING DATA**"
      ],
      "metadata": {
        "id": "9FOhV6x_EZnX"
      }
    },
    {
      "cell_type": "markdown",
      "source": [
        "In order to load the data, we will use the pandas library and particularly the 'read_excel' method."
      ],
      "metadata": {
        "id": "VQfrDfMQG-y_"
      }
    },
    {
      "cell_type": "code",
      "source": [
        "data = pd.read_excel('Housing.xlsx')\n",
        "data.head()"
      ],
      "metadata": {
        "id": "7XQ0REu54dls",
        "colab": {
          "base_uri": "https://localhost:8080/",
          "height": 337
        },
        "outputId": "655c191d-b075-4abc-9903-7b83011e36b9"
      },
      "execution_count": 3,
      "outputs": [
        {
          "output_type": "execute_result",
          "data": {
            "text/plain": [
              "   UniqueID         LandUse                     PropertyAddress   SaleDate  \\\n",
              "0       2045  SINGLE FAMILY  1808  FOX CHASE DR, GOODLETTSVILLE 2013-04-09   \n",
              "1      16918  SINGLE FAMILY  1832  FOX CHASE DR, GOODLETTSVILLE 2014-06-10   \n",
              "2      54582  SINGLE FAMILY  1864 FOX CHASE  DR, GOODLETTSVILLE 2016-09-26   \n",
              "3      43070  SINGLE FAMILY  1853  FOX CHASE DR, GOODLETTSVILLE 2016-01-29   \n",
              "4      22714  SINGLE FAMILY  1829  FOX CHASE DR, GOODLETTSVILLE 2014-10-10   \n",
              "\n",
              "   SalePrice  Acre  LandValue  BuildingValue  TotalValue  YearBuilt  Bedrooms  \\\n",
              "0     240000   2.3    50000.0       168200.0    235700.0     1986.0       3.0   \n",
              "1     366000   3.5    50000.0       264100.0    319000.0     1998.0       3.0   \n",
              "2     435000   2.9    50000.0       216200.0    298000.0     1987.0       4.0   \n",
              "3     255000   2.6    50000.0       147300.0    197300.0     1985.0       3.0   \n",
              "4     278000   2.0    50000.0       152300.0    202300.0     1984.0       4.0   \n",
              "\n",
              "   FullBath  HalfBath  \n",
              "0       3.0       0.0  \n",
              "1       3.0       2.0  \n",
              "2       3.0       0.0  \n",
              "3       3.0       0.0  \n",
              "4       3.0       0.0  "
            ],
            "text/html": [
              "\n",
              "  <div id=\"df-30466c41-f068-4061-bc9f-21386e590483\">\n",
              "    <div class=\"colab-df-container\">\n",
              "      <div>\n",
              "<style scoped>\n",
              "    .dataframe tbody tr th:only-of-type {\n",
              "        vertical-align: middle;\n",
              "    }\n",
              "\n",
              "    .dataframe tbody tr th {\n",
              "        vertical-align: top;\n",
              "    }\n",
              "\n",
              "    .dataframe thead th {\n",
              "        text-align: right;\n",
              "    }\n",
              "</style>\n",
              "<table border=\"1\" class=\"dataframe\">\n",
              "  <thead>\n",
              "    <tr style=\"text-align: right;\">\n",
              "      <th></th>\n",
              "      <th>UniqueID</th>\n",
              "      <th>LandUse</th>\n",
              "      <th>PropertyAddress</th>\n",
              "      <th>SaleDate</th>\n",
              "      <th>SalePrice</th>\n",
              "      <th>Acre</th>\n",
              "      <th>LandValue</th>\n",
              "      <th>BuildingValue</th>\n",
              "      <th>TotalValue</th>\n",
              "      <th>YearBuilt</th>\n",
              "      <th>Bedrooms</th>\n",
              "      <th>FullBath</th>\n",
              "      <th>HalfBath</th>\n",
              "    </tr>\n",
              "  </thead>\n",
              "  <tbody>\n",
              "    <tr>\n",
              "      <th>0</th>\n",
              "      <td>2045</td>\n",
              "      <td>SINGLE FAMILY</td>\n",
              "      <td>1808  FOX CHASE DR, GOODLETTSVILLE</td>\n",
              "      <td>2013-04-09</td>\n",
              "      <td>240000</td>\n",
              "      <td>2.3</td>\n",
              "      <td>50000.0</td>\n",
              "      <td>168200.0</td>\n",
              "      <td>235700.0</td>\n",
              "      <td>1986.0</td>\n",
              "      <td>3.0</td>\n",
              "      <td>3.0</td>\n",
              "      <td>0.0</td>\n",
              "    </tr>\n",
              "    <tr>\n",
              "      <th>1</th>\n",
              "      <td>16918</td>\n",
              "      <td>SINGLE FAMILY</td>\n",
              "      <td>1832  FOX CHASE DR, GOODLETTSVILLE</td>\n",
              "      <td>2014-06-10</td>\n",
              "      <td>366000</td>\n",
              "      <td>3.5</td>\n",
              "      <td>50000.0</td>\n",
              "      <td>264100.0</td>\n",
              "      <td>319000.0</td>\n",
              "      <td>1998.0</td>\n",
              "      <td>3.0</td>\n",
              "      <td>3.0</td>\n",
              "      <td>2.0</td>\n",
              "    </tr>\n",
              "    <tr>\n",
              "      <th>2</th>\n",
              "      <td>54582</td>\n",
              "      <td>SINGLE FAMILY</td>\n",
              "      <td>1864 FOX CHASE  DR, GOODLETTSVILLE</td>\n",
              "      <td>2016-09-26</td>\n",
              "      <td>435000</td>\n",
              "      <td>2.9</td>\n",
              "      <td>50000.0</td>\n",
              "      <td>216200.0</td>\n",
              "      <td>298000.0</td>\n",
              "      <td>1987.0</td>\n",
              "      <td>4.0</td>\n",
              "      <td>3.0</td>\n",
              "      <td>0.0</td>\n",
              "    </tr>\n",
              "    <tr>\n",
              "      <th>3</th>\n",
              "      <td>43070</td>\n",
              "      <td>SINGLE FAMILY</td>\n",
              "      <td>1853  FOX CHASE DR, GOODLETTSVILLE</td>\n",
              "      <td>2016-01-29</td>\n",
              "      <td>255000</td>\n",
              "      <td>2.6</td>\n",
              "      <td>50000.0</td>\n",
              "      <td>147300.0</td>\n",
              "      <td>197300.0</td>\n",
              "      <td>1985.0</td>\n",
              "      <td>3.0</td>\n",
              "      <td>3.0</td>\n",
              "      <td>0.0</td>\n",
              "    </tr>\n",
              "    <tr>\n",
              "      <th>4</th>\n",
              "      <td>22714</td>\n",
              "      <td>SINGLE FAMILY</td>\n",
              "      <td>1829  FOX CHASE DR, GOODLETTSVILLE</td>\n",
              "      <td>2014-10-10</td>\n",
              "      <td>278000</td>\n",
              "      <td>2.0</td>\n",
              "      <td>50000.0</td>\n",
              "      <td>152300.0</td>\n",
              "      <td>202300.0</td>\n",
              "      <td>1984.0</td>\n",
              "      <td>4.0</td>\n",
              "      <td>3.0</td>\n",
              "      <td>0.0</td>\n",
              "    </tr>\n",
              "  </tbody>\n",
              "</table>\n",
              "</div>\n",
              "      <button class=\"colab-df-convert\" onclick=\"convertToInteractive('df-30466c41-f068-4061-bc9f-21386e590483')\"\n",
              "              title=\"Convert this dataframe to an interactive table.\"\n",
              "              style=\"display:none;\">\n",
              "        \n",
              "  <svg xmlns=\"http://www.w3.org/2000/svg\" height=\"24px\"viewBox=\"0 0 24 24\"\n",
              "       width=\"24px\">\n",
              "    <path d=\"M0 0h24v24H0V0z\" fill=\"none\"/>\n",
              "    <path d=\"M18.56 5.44l.94 2.06.94-2.06 2.06-.94-2.06-.94-.94-2.06-.94 2.06-2.06.94zm-11 1L8.5 8.5l.94-2.06 2.06-.94-2.06-.94L8.5 2.5l-.94 2.06-2.06.94zm10 10l.94 2.06.94-2.06 2.06-.94-2.06-.94-.94-2.06-.94 2.06-2.06.94z\"/><path d=\"M17.41 7.96l-1.37-1.37c-.4-.4-.92-.59-1.43-.59-.52 0-1.04.2-1.43.59L10.3 9.45l-7.72 7.72c-.78.78-.78 2.05 0 2.83L4 21.41c.39.39.9.59 1.41.59.51 0 1.02-.2 1.41-.59l7.78-7.78 2.81-2.81c.8-.78.8-2.07 0-2.86zM5.41 20L4 18.59l7.72-7.72 1.47 1.35L5.41 20z\"/>\n",
              "  </svg>\n",
              "      </button>\n",
              "      \n",
              "  <style>\n",
              "    .colab-df-container {\n",
              "      display:flex;\n",
              "      flex-wrap:wrap;\n",
              "      gap: 12px;\n",
              "    }\n",
              "\n",
              "    .colab-df-convert {\n",
              "      background-color: #E8F0FE;\n",
              "      border: none;\n",
              "      border-radius: 50%;\n",
              "      cursor: pointer;\n",
              "      display: none;\n",
              "      fill: #1967D2;\n",
              "      height: 32px;\n",
              "      padding: 0 0 0 0;\n",
              "      width: 32px;\n",
              "    }\n",
              "\n",
              "    .colab-df-convert:hover {\n",
              "      background-color: #E2EBFA;\n",
              "      box-shadow: 0px 1px 2px rgba(60, 64, 67, 0.3), 0px 1px 3px 1px rgba(60, 64, 67, 0.15);\n",
              "      fill: #174EA6;\n",
              "    }\n",
              "\n",
              "    [theme=dark] .colab-df-convert {\n",
              "      background-color: #3B4455;\n",
              "      fill: #D2E3FC;\n",
              "    }\n",
              "\n",
              "    [theme=dark] .colab-df-convert:hover {\n",
              "      background-color: #434B5C;\n",
              "      box-shadow: 0px 1px 3px 1px rgba(0, 0, 0, 0.15);\n",
              "      filter: drop-shadow(0px 1px 2px rgba(0, 0, 0, 0.3));\n",
              "      fill: #FFFFFF;\n",
              "    }\n",
              "  </style>\n",
              "\n",
              "      <script>\n",
              "        const buttonEl =\n",
              "          document.querySelector('#df-30466c41-f068-4061-bc9f-21386e590483 button.colab-df-convert');\n",
              "        buttonEl.style.display =\n",
              "          google.colab.kernel.accessAllowed ? 'block' : 'none';\n",
              "\n",
              "        async function convertToInteractive(key) {\n",
              "          const element = document.querySelector('#df-30466c41-f068-4061-bc9f-21386e590483');\n",
              "          const dataTable =\n",
              "            await google.colab.kernel.invokeFunction('convertToInteractive',\n",
              "                                                     [key], {});\n",
              "          if (!dataTable) return;\n",
              "\n",
              "          const docLinkHtml = 'Like what you see? Visit the ' +\n",
              "            '<a target=\"_blank\" href=https://colab.research.google.com/notebooks/data_table.ipynb>data table notebook</a>'\n",
              "            + ' to learn more about interactive tables.';\n",
              "          element.innerHTML = '';\n",
              "          dataTable['output_type'] = 'display_data';\n",
              "          await google.colab.output.renderOutput(dataTable, element);\n",
              "          const docLink = document.createElement('div');\n",
              "          docLink.innerHTML = docLinkHtml;\n",
              "          element.appendChild(docLink);\n",
              "        }\n",
              "      </script>\n",
              "    </div>\n",
              "  </div>\n",
              "  "
            ]
          },
          "metadata": {},
          "execution_count": 3
        }
      ]
    },
    {
      "cell_type": "markdown",
      "source": [
        "**CLEANING DATA**"
      ],
      "metadata": {
        "id": "zMI27Q5bEiGy"
      }
    },
    {
      "cell_type": "markdown",
      "source": [
        "The major goal of cleaning data is to ensure that all the null values are either eliminated or replaced so as to ensure that the data is fit for analysis. "
      ],
      "metadata": {
        "id": "rwtitUr_Hd4X"
      }
    },
    {
      "cell_type": "code",
      "source": [
        "data.isnull().sum()"
      ],
      "metadata": {
        "id": "q6alZgFzD0aG",
        "colab": {
          "base_uri": "https://localhost:8080/"
        },
        "outputId": "1e8a2bdd-6806-4bdf-e4e1-b9817a7b3a7d"
      },
      "execution_count": 4,
      "outputs": [
        {
          "output_type": "execute_result",
          "data": {
            "text/plain": [
              "UniqueID               0\n",
              "LandUse                0\n",
              "PropertyAddress       29\n",
              "SaleDate               0\n",
              "SalePrice              0\n",
              "Acre               30462\n",
              "LandValue          30462\n",
              "BuildingValue      30462\n",
              "TotalValue         30462\n",
              "YearBuilt          32314\n",
              "Bedrooms           32320\n",
              "FullBath           32202\n",
              "HalfBath           32333\n",
              "dtype: int64"
            ]
          },
          "metadata": {},
          "execution_count": 4
        }
      ]
    },
    {
      "cell_type": "markdown",
      "source": [
        "1. Replace the missing values with appropriate approximations"
      ],
      "metadata": {
        "id": "DVDO9kGVMZbq"
      }
    },
    {
      "cell_type": "markdown",
      "source": [
        "Here we are filling all of the null values, with the mean value of their corresponding columns. "
      ],
      "metadata": {
        "id": "_ZaTighuHt2r"
      }
    },
    {
      "cell_type": "code",
      "source": [
        "data['Acre']=data[\"Acre\"].fillna(np.mean(data[\"Acre\"]))\n",
        "data['LandValue']=data[\"LandValue\"].fillna(np.mean(data[\"LandValue\"]))\n",
        "data['BuildingValue']=data[\"BuildingValue\"].fillna(np.mean(data[\"BuildingValue\"]))\n",
        "data['TotalValue']=data[\"TotalValue\"].fillna(np.mean(data[\"TotalValue\"]))\n",
        "data['YearBuilt']=data[\"YearBuilt\"].fillna(np.mean(data[\"YearBuilt\"]))\n",
        "data['Bedrooms']=data[\"Bedrooms\"].fillna(np.mean(data[\"Bedrooms\"]))\n",
        "data['FullBath']=data[\"FullBath\"].fillna(np.mean(data[\"FullBath\"]))\n",
        "data['HalfBath']=data[\"HalfBath\"].fillna(np.mean(data[\"HalfBath\"]))\n",
        "data"
      ],
      "metadata": {
        "id": "xNiWG1BeirlP",
        "colab": {
          "base_uri": "https://localhost:8080/",
          "height": 835
        },
        "outputId": "82e861b7-6cee-4897-b43e-fa0446072967"
      },
      "execution_count": 5,
      "outputs": [
        {
          "output_type": "execute_result",
          "data": {
            "text/plain": [
              "       UniqueID                   LandUse  \\\n",
              "0           2045            SINGLE FAMILY   \n",
              "1          16918            SINGLE FAMILY   \n",
              "2          54582            SINGLE FAMILY   \n",
              "3          43070            SINGLE FAMILY   \n",
              "4          22714            SINGLE FAMILY   \n",
              "...          ...                      ...   \n",
              "56472      30469            SINGLE FAMILY   \n",
              "56473      27707            SINGLE FAMILY   \n",
              "56474      52709  VACANT RESIDENTIAL LAND   \n",
              "56475      54042  VACANT RESIDENTIAL LAND   \n",
              "56476      54043  VACANT RESIDENTIAL LAND   \n",
              "\n",
              "                           PropertyAddress   SaleDate  SalePrice      Acre  \\\n",
              "0       1808  FOX CHASE DR, GOODLETTSVILLE 2013-04-09     240000  2.300000   \n",
              "1       1832  FOX CHASE DR, GOODLETTSVILLE 2014-06-10     366000  3.500000   \n",
              "2       1864 FOX CHASE  DR, GOODLETTSVILLE 2016-09-26     435000  2.900000   \n",
              "3       1853  FOX CHASE DR, GOODLETTSVILLE 2016-01-29     255000  2.600000   \n",
              "4       1829  FOX CHASE DR, GOODLETTSVILLE 2014-10-10     278000  2.000000   \n",
              "...                                    ...        ...        ...       ...   \n",
              "56472  1435  WINDING CREEK DR, NOLENSVILLE 2015-05-27     157500  0.498923   \n",
              "56473  1423  WINDING CREEK DR, NOLENSVILLE 2015-03-02     145000  0.498923   \n",
              "56474    1804 GRACE POINT  LN, NOLENSVILLE 2016-08-16     234611  0.498923   \n",
              "56475   1709 PARK TERRACE  LN, NOLENSVILLE 2016-09-07      93844  0.498923   \n",
              "56476   1713 PARK TERRACE  LN, NOLENSVILLE 2016-09-07      93844  0.498923   \n",
              "\n",
              "          LandValue  BuildingValue     TotalValue    YearBuilt  Bedrooms  \\\n",
              "0      50000.000000  168200.000000  235700.000000  1986.000000  3.000000   \n",
              "1      50000.000000  264100.000000  319000.000000  1998.000000  3.000000   \n",
              "2      50000.000000  216200.000000  298000.000000  1987.000000  4.000000   \n",
              "3      50000.000000  147300.000000  197300.000000  1985.000000  3.000000   \n",
              "4      50000.000000  152300.000000  202300.000000  1984.000000  4.000000   \n",
              "...             ...            ...            ...          ...       ...   \n",
              "56472  69068.557601  160784.677109  232375.398847  1963.744899  3.089912   \n",
              "56473  69068.557601  160784.677109  232375.398847  1963.744899  3.089912   \n",
              "56474  69068.557601  160784.677109  232375.398847  1963.744899  3.089912   \n",
              "56475  69068.557601  160784.677109  232375.398847  1963.744899  3.089912   \n",
              "56476  69068.557601  160784.677109  232375.398847  1963.744899  3.089912   \n",
              "\n",
              "       FullBath  HalfBath  \n",
              "0      3.000000  0.000000  \n",
              "1      3.000000  2.000000  \n",
              "2      3.000000  0.000000  \n",
              "3      3.000000  0.000000  \n",
              "4      3.000000  0.000000  \n",
              "...         ...       ...  \n",
              "56472  1.886014  0.283921  \n",
              "56473  1.886014  0.283921  \n",
              "56474  1.886014  0.283921  \n",
              "56475  1.886014  0.283921  \n",
              "56476  1.886014  0.283921  \n",
              "\n",
              "[56477 rows x 13 columns]"
            ],
            "text/html": [
              "\n",
              "  <div id=\"df-449ccece-198c-4ef1-96ad-934e8a95b8e3\">\n",
              "    <div class=\"colab-df-container\">\n",
              "      <div>\n",
              "<style scoped>\n",
              "    .dataframe tbody tr th:only-of-type {\n",
              "        vertical-align: middle;\n",
              "    }\n",
              "\n",
              "    .dataframe tbody tr th {\n",
              "        vertical-align: top;\n",
              "    }\n",
              "\n",
              "    .dataframe thead th {\n",
              "        text-align: right;\n",
              "    }\n",
              "</style>\n",
              "<table border=\"1\" class=\"dataframe\">\n",
              "  <thead>\n",
              "    <tr style=\"text-align: right;\">\n",
              "      <th></th>\n",
              "      <th>UniqueID</th>\n",
              "      <th>LandUse</th>\n",
              "      <th>PropertyAddress</th>\n",
              "      <th>SaleDate</th>\n",
              "      <th>SalePrice</th>\n",
              "      <th>Acre</th>\n",
              "      <th>LandValue</th>\n",
              "      <th>BuildingValue</th>\n",
              "      <th>TotalValue</th>\n",
              "      <th>YearBuilt</th>\n",
              "      <th>Bedrooms</th>\n",
              "      <th>FullBath</th>\n",
              "      <th>HalfBath</th>\n",
              "    </tr>\n",
              "  </thead>\n",
              "  <tbody>\n",
              "    <tr>\n",
              "      <th>0</th>\n",
              "      <td>2045</td>\n",
              "      <td>SINGLE FAMILY</td>\n",
              "      <td>1808  FOX CHASE DR, GOODLETTSVILLE</td>\n",
              "      <td>2013-04-09</td>\n",
              "      <td>240000</td>\n",
              "      <td>2.300000</td>\n",
              "      <td>50000.000000</td>\n",
              "      <td>168200.000000</td>\n",
              "      <td>235700.000000</td>\n",
              "      <td>1986.000000</td>\n",
              "      <td>3.000000</td>\n",
              "      <td>3.000000</td>\n",
              "      <td>0.000000</td>\n",
              "    </tr>\n",
              "    <tr>\n",
              "      <th>1</th>\n",
              "      <td>16918</td>\n",
              "      <td>SINGLE FAMILY</td>\n",
              "      <td>1832  FOX CHASE DR, GOODLETTSVILLE</td>\n",
              "      <td>2014-06-10</td>\n",
              "      <td>366000</td>\n",
              "      <td>3.500000</td>\n",
              "      <td>50000.000000</td>\n",
              "      <td>264100.000000</td>\n",
              "      <td>319000.000000</td>\n",
              "      <td>1998.000000</td>\n",
              "      <td>3.000000</td>\n",
              "      <td>3.000000</td>\n",
              "      <td>2.000000</td>\n",
              "    </tr>\n",
              "    <tr>\n",
              "      <th>2</th>\n",
              "      <td>54582</td>\n",
              "      <td>SINGLE FAMILY</td>\n",
              "      <td>1864 FOX CHASE  DR, GOODLETTSVILLE</td>\n",
              "      <td>2016-09-26</td>\n",
              "      <td>435000</td>\n",
              "      <td>2.900000</td>\n",
              "      <td>50000.000000</td>\n",
              "      <td>216200.000000</td>\n",
              "      <td>298000.000000</td>\n",
              "      <td>1987.000000</td>\n",
              "      <td>4.000000</td>\n",
              "      <td>3.000000</td>\n",
              "      <td>0.000000</td>\n",
              "    </tr>\n",
              "    <tr>\n",
              "      <th>3</th>\n",
              "      <td>43070</td>\n",
              "      <td>SINGLE FAMILY</td>\n",
              "      <td>1853  FOX CHASE DR, GOODLETTSVILLE</td>\n",
              "      <td>2016-01-29</td>\n",
              "      <td>255000</td>\n",
              "      <td>2.600000</td>\n",
              "      <td>50000.000000</td>\n",
              "      <td>147300.000000</td>\n",
              "      <td>197300.000000</td>\n",
              "      <td>1985.000000</td>\n",
              "      <td>3.000000</td>\n",
              "      <td>3.000000</td>\n",
              "      <td>0.000000</td>\n",
              "    </tr>\n",
              "    <tr>\n",
              "      <th>4</th>\n",
              "      <td>22714</td>\n",
              "      <td>SINGLE FAMILY</td>\n",
              "      <td>1829  FOX CHASE DR, GOODLETTSVILLE</td>\n",
              "      <td>2014-10-10</td>\n",
              "      <td>278000</td>\n",
              "      <td>2.000000</td>\n",
              "      <td>50000.000000</td>\n",
              "      <td>152300.000000</td>\n",
              "      <td>202300.000000</td>\n",
              "      <td>1984.000000</td>\n",
              "      <td>4.000000</td>\n",
              "      <td>3.000000</td>\n",
              "      <td>0.000000</td>\n",
              "    </tr>\n",
              "    <tr>\n",
              "      <th>...</th>\n",
              "      <td>...</td>\n",
              "      <td>...</td>\n",
              "      <td>...</td>\n",
              "      <td>...</td>\n",
              "      <td>...</td>\n",
              "      <td>...</td>\n",
              "      <td>...</td>\n",
              "      <td>...</td>\n",
              "      <td>...</td>\n",
              "      <td>...</td>\n",
              "      <td>...</td>\n",
              "      <td>...</td>\n",
              "      <td>...</td>\n",
              "    </tr>\n",
              "    <tr>\n",
              "      <th>56472</th>\n",
              "      <td>30469</td>\n",
              "      <td>SINGLE FAMILY</td>\n",
              "      <td>1435  WINDING CREEK DR, NOLENSVILLE</td>\n",
              "      <td>2015-05-27</td>\n",
              "      <td>157500</td>\n",
              "      <td>0.498923</td>\n",
              "      <td>69068.557601</td>\n",
              "      <td>160784.677109</td>\n",
              "      <td>232375.398847</td>\n",
              "      <td>1963.744899</td>\n",
              "      <td>3.089912</td>\n",
              "      <td>1.886014</td>\n",
              "      <td>0.283921</td>\n",
              "    </tr>\n",
              "    <tr>\n",
              "      <th>56473</th>\n",
              "      <td>27707</td>\n",
              "      <td>SINGLE FAMILY</td>\n",
              "      <td>1423  WINDING CREEK DR, NOLENSVILLE</td>\n",
              "      <td>2015-03-02</td>\n",
              "      <td>145000</td>\n",
              "      <td>0.498923</td>\n",
              "      <td>69068.557601</td>\n",
              "      <td>160784.677109</td>\n",
              "      <td>232375.398847</td>\n",
              "      <td>1963.744899</td>\n",
              "      <td>3.089912</td>\n",
              "      <td>1.886014</td>\n",
              "      <td>0.283921</td>\n",
              "    </tr>\n",
              "    <tr>\n",
              "      <th>56474</th>\n",
              "      <td>52709</td>\n",
              "      <td>VACANT RESIDENTIAL LAND</td>\n",
              "      <td>1804 GRACE POINT  LN, NOLENSVILLE</td>\n",
              "      <td>2016-08-16</td>\n",
              "      <td>234611</td>\n",
              "      <td>0.498923</td>\n",
              "      <td>69068.557601</td>\n",
              "      <td>160784.677109</td>\n",
              "      <td>232375.398847</td>\n",
              "      <td>1963.744899</td>\n",
              "      <td>3.089912</td>\n",
              "      <td>1.886014</td>\n",
              "      <td>0.283921</td>\n",
              "    </tr>\n",
              "    <tr>\n",
              "      <th>56475</th>\n",
              "      <td>54042</td>\n",
              "      <td>VACANT RESIDENTIAL LAND</td>\n",
              "      <td>1709 PARK TERRACE  LN, NOLENSVILLE</td>\n",
              "      <td>2016-09-07</td>\n",
              "      <td>93844</td>\n",
              "      <td>0.498923</td>\n",
              "      <td>69068.557601</td>\n",
              "      <td>160784.677109</td>\n",
              "      <td>232375.398847</td>\n",
              "      <td>1963.744899</td>\n",
              "      <td>3.089912</td>\n",
              "      <td>1.886014</td>\n",
              "      <td>0.283921</td>\n",
              "    </tr>\n",
              "    <tr>\n",
              "      <th>56476</th>\n",
              "      <td>54043</td>\n",
              "      <td>VACANT RESIDENTIAL LAND</td>\n",
              "      <td>1713 PARK TERRACE  LN, NOLENSVILLE</td>\n",
              "      <td>2016-09-07</td>\n",
              "      <td>93844</td>\n",
              "      <td>0.498923</td>\n",
              "      <td>69068.557601</td>\n",
              "      <td>160784.677109</td>\n",
              "      <td>232375.398847</td>\n",
              "      <td>1963.744899</td>\n",
              "      <td>3.089912</td>\n",
              "      <td>1.886014</td>\n",
              "      <td>0.283921</td>\n",
              "    </tr>\n",
              "  </tbody>\n",
              "</table>\n",
              "<p>56477 rows × 13 columns</p>\n",
              "</div>\n",
              "      <button class=\"colab-df-convert\" onclick=\"convertToInteractive('df-449ccece-198c-4ef1-96ad-934e8a95b8e3')\"\n",
              "              title=\"Convert this dataframe to an interactive table.\"\n",
              "              style=\"display:none;\">\n",
              "        \n",
              "  <svg xmlns=\"http://www.w3.org/2000/svg\" height=\"24px\"viewBox=\"0 0 24 24\"\n",
              "       width=\"24px\">\n",
              "    <path d=\"M0 0h24v24H0V0z\" fill=\"none\"/>\n",
              "    <path d=\"M18.56 5.44l.94 2.06.94-2.06 2.06-.94-2.06-.94-.94-2.06-.94 2.06-2.06.94zm-11 1L8.5 8.5l.94-2.06 2.06-.94-2.06-.94L8.5 2.5l-.94 2.06-2.06.94zm10 10l.94 2.06.94-2.06 2.06-.94-2.06-.94-.94-2.06-.94 2.06-2.06.94z\"/><path d=\"M17.41 7.96l-1.37-1.37c-.4-.4-.92-.59-1.43-.59-.52 0-1.04.2-1.43.59L10.3 9.45l-7.72 7.72c-.78.78-.78 2.05 0 2.83L4 21.41c.39.39.9.59 1.41.59.51 0 1.02-.2 1.41-.59l7.78-7.78 2.81-2.81c.8-.78.8-2.07 0-2.86zM5.41 20L4 18.59l7.72-7.72 1.47 1.35L5.41 20z\"/>\n",
              "  </svg>\n",
              "      </button>\n",
              "      \n",
              "  <style>\n",
              "    .colab-df-container {\n",
              "      display:flex;\n",
              "      flex-wrap:wrap;\n",
              "      gap: 12px;\n",
              "    }\n",
              "\n",
              "    .colab-df-convert {\n",
              "      background-color: #E8F0FE;\n",
              "      border: none;\n",
              "      border-radius: 50%;\n",
              "      cursor: pointer;\n",
              "      display: none;\n",
              "      fill: #1967D2;\n",
              "      height: 32px;\n",
              "      padding: 0 0 0 0;\n",
              "      width: 32px;\n",
              "    }\n",
              "\n",
              "    .colab-df-convert:hover {\n",
              "      background-color: #E2EBFA;\n",
              "      box-shadow: 0px 1px 2px rgba(60, 64, 67, 0.3), 0px 1px 3px 1px rgba(60, 64, 67, 0.15);\n",
              "      fill: #174EA6;\n",
              "    }\n",
              "\n",
              "    [theme=dark] .colab-df-convert {\n",
              "      background-color: #3B4455;\n",
              "      fill: #D2E3FC;\n",
              "    }\n",
              "\n",
              "    [theme=dark] .colab-df-convert:hover {\n",
              "      background-color: #434B5C;\n",
              "      box-shadow: 0px 1px 3px 1px rgba(0, 0, 0, 0.15);\n",
              "      filter: drop-shadow(0px 1px 2px rgba(0, 0, 0, 0.3));\n",
              "      fill: #FFFFFF;\n",
              "    }\n",
              "  </style>\n",
              "\n",
              "      <script>\n",
              "        const buttonEl =\n",
              "          document.querySelector('#df-449ccece-198c-4ef1-96ad-934e8a95b8e3 button.colab-df-convert');\n",
              "        buttonEl.style.display =\n",
              "          google.colab.kernel.accessAllowed ? 'block' : 'none';\n",
              "\n",
              "        async function convertToInteractive(key) {\n",
              "          const element = document.querySelector('#df-449ccece-198c-4ef1-96ad-934e8a95b8e3');\n",
              "          const dataTable =\n",
              "            await google.colab.kernel.invokeFunction('convertToInteractive',\n",
              "                                                     [key], {});\n",
              "          if (!dataTable) return;\n",
              "\n",
              "          const docLinkHtml = 'Like what you see? Visit the ' +\n",
              "            '<a target=\"_blank\" href=https://colab.research.google.com/notebooks/data_table.ipynb>data table notebook</a>'\n",
              "            + ' to learn more about interactive tables.';\n",
              "          element.innerHTML = '';\n",
              "          dataTable['output_type'] = 'display_data';\n",
              "          await google.colab.output.renderOutput(dataTable, element);\n",
              "          const docLink = document.createElement('div');\n",
              "          docLink.innerHTML = docLinkHtml;\n",
              "          element.appendChild(docLink);\n",
              "        }\n",
              "      </script>\n",
              "    </div>\n",
              "  </div>\n",
              "  "
            ]
          },
          "metadata": {},
          "execution_count": 5
        }
      ]
    },
    {
      "cell_type": "markdown",
      "source": [
        "**2. Rename the columns to better suited names**"
      ],
      "metadata": {
        "id": "BPzREYWpMoKd"
      }
    },
    {
      "cell_type": "markdown",
      "source": [
        "Most of the columns are aptly named, maybe except for 'FullBath' and 'HalfBath'. So, we can rename them using the 'rename()' method."
      ],
      "metadata": {
        "id": "_mjfogWqH9Pv"
      }
    },
    {
      "cell_type": "code",
      "source": [
        "data.columns"
      ],
      "metadata": {
        "id": "-pXFsL2xNf78",
        "colab": {
          "base_uri": "https://localhost:8080/"
        },
        "outputId": "413f121d-9164-4e2e-e3f2-59a10695c52e"
      },
      "execution_count": 6,
      "outputs": [
        {
          "output_type": "execute_result",
          "data": {
            "text/plain": [
              "Index(['UniqueID ', 'LandUse', 'PropertyAddress', 'SaleDate', 'SalePrice',\n",
              "       'Acre', 'LandValue', 'BuildingValue', 'TotalValue', 'YearBuilt',\n",
              "       'Bedrooms', 'FullBath', 'HalfBath'],\n",
              "      dtype='object')"
            ]
          },
          "metadata": {},
          "execution_count": 6
        }
      ]
    },
    {
      "cell_type": "code",
      "source": [
        "data.rename(columns={\"FullBath\":\"FullBathroom\"},inplace=True)\n",
        "data.rename(columns={\"HalfBath\":\"HalfBathroom\"},inplace=True)"
      ],
      "metadata": {
        "id": "XBZ856rANaQm"
      },
      "execution_count": 7,
      "outputs": []
    },
    {
      "cell_type": "markdown",
      "source": [
        "**3. Extract the month and year from the sale date.**"
      ],
      "metadata": {
        "id": "k_r6est4M4Tj"
      }
    },
    {
      "cell_type": "markdown",
      "source": [
        "We can use the 'DatetimeIndex' method in pandas to extract the year, month and day of any given date."
      ],
      "metadata": {
        "id": "XQZ4L3qSIInH"
      }
    },
    {
      "cell_type": "code",
      "source": [
        "data['Year']=pd.DatetimeIndex(data['SaleDate']).year\n",
        "data['Month']=pd.DatetimeIndex(data['SaleDate']).month\n",
        "data['Day']=pd.DatetimeIndex(data['SaleDate']).day\n",
        "data"
      ],
      "metadata": {
        "id": "IkPXlNyKi0MH",
        "colab": {
          "base_uri": "https://localhost:8080/",
          "height": 835
        },
        "outputId": "d5fc8f64-221e-4448-c7bf-08f61254b5e7"
      },
      "execution_count": 8,
      "outputs": [
        {
          "output_type": "execute_result",
          "data": {
            "text/plain": [
              "       UniqueID                   LandUse  \\\n",
              "0           2045            SINGLE FAMILY   \n",
              "1          16918            SINGLE FAMILY   \n",
              "2          54582            SINGLE FAMILY   \n",
              "3          43070            SINGLE FAMILY   \n",
              "4          22714            SINGLE FAMILY   \n",
              "...          ...                      ...   \n",
              "56472      30469            SINGLE FAMILY   \n",
              "56473      27707            SINGLE FAMILY   \n",
              "56474      52709  VACANT RESIDENTIAL LAND   \n",
              "56475      54042  VACANT RESIDENTIAL LAND   \n",
              "56476      54043  VACANT RESIDENTIAL LAND   \n",
              "\n",
              "                           PropertyAddress   SaleDate  SalePrice      Acre  \\\n",
              "0       1808  FOX CHASE DR, GOODLETTSVILLE 2013-04-09     240000  2.300000   \n",
              "1       1832  FOX CHASE DR, GOODLETTSVILLE 2014-06-10     366000  3.500000   \n",
              "2       1864 FOX CHASE  DR, GOODLETTSVILLE 2016-09-26     435000  2.900000   \n",
              "3       1853  FOX CHASE DR, GOODLETTSVILLE 2016-01-29     255000  2.600000   \n",
              "4       1829  FOX CHASE DR, GOODLETTSVILLE 2014-10-10     278000  2.000000   \n",
              "...                                    ...        ...        ...       ...   \n",
              "56472  1435  WINDING CREEK DR, NOLENSVILLE 2015-05-27     157500  0.498923   \n",
              "56473  1423  WINDING CREEK DR, NOLENSVILLE 2015-03-02     145000  0.498923   \n",
              "56474    1804 GRACE POINT  LN, NOLENSVILLE 2016-08-16     234611  0.498923   \n",
              "56475   1709 PARK TERRACE  LN, NOLENSVILLE 2016-09-07      93844  0.498923   \n",
              "56476   1713 PARK TERRACE  LN, NOLENSVILLE 2016-09-07      93844  0.498923   \n",
              "\n",
              "          LandValue  BuildingValue     TotalValue    YearBuilt  Bedrooms  \\\n",
              "0      50000.000000  168200.000000  235700.000000  1986.000000  3.000000   \n",
              "1      50000.000000  264100.000000  319000.000000  1998.000000  3.000000   \n",
              "2      50000.000000  216200.000000  298000.000000  1987.000000  4.000000   \n",
              "3      50000.000000  147300.000000  197300.000000  1985.000000  3.000000   \n",
              "4      50000.000000  152300.000000  202300.000000  1984.000000  4.000000   \n",
              "...             ...            ...            ...          ...       ...   \n",
              "56472  69068.557601  160784.677109  232375.398847  1963.744899  3.089912   \n",
              "56473  69068.557601  160784.677109  232375.398847  1963.744899  3.089912   \n",
              "56474  69068.557601  160784.677109  232375.398847  1963.744899  3.089912   \n",
              "56475  69068.557601  160784.677109  232375.398847  1963.744899  3.089912   \n",
              "56476  69068.557601  160784.677109  232375.398847  1963.744899  3.089912   \n",
              "\n",
              "       FullBathroom  HalfBathroom  Year  Month  Day  \n",
              "0          3.000000      0.000000  2013      4    9  \n",
              "1          3.000000      2.000000  2014      6   10  \n",
              "2          3.000000      0.000000  2016      9   26  \n",
              "3          3.000000      0.000000  2016      1   29  \n",
              "4          3.000000      0.000000  2014     10   10  \n",
              "...             ...           ...   ...    ...  ...  \n",
              "56472      1.886014      0.283921  2015      5   27  \n",
              "56473      1.886014      0.283921  2015      3    2  \n",
              "56474      1.886014      0.283921  2016      8   16  \n",
              "56475      1.886014      0.283921  2016      9    7  \n",
              "56476      1.886014      0.283921  2016      9    7  \n",
              "\n",
              "[56477 rows x 16 columns]"
            ],
            "text/html": [
              "\n",
              "  <div id=\"df-964712e3-4ded-4585-a628-bec73f2ed2e5\">\n",
              "    <div class=\"colab-df-container\">\n",
              "      <div>\n",
              "<style scoped>\n",
              "    .dataframe tbody tr th:only-of-type {\n",
              "        vertical-align: middle;\n",
              "    }\n",
              "\n",
              "    .dataframe tbody tr th {\n",
              "        vertical-align: top;\n",
              "    }\n",
              "\n",
              "    .dataframe thead th {\n",
              "        text-align: right;\n",
              "    }\n",
              "</style>\n",
              "<table border=\"1\" class=\"dataframe\">\n",
              "  <thead>\n",
              "    <tr style=\"text-align: right;\">\n",
              "      <th></th>\n",
              "      <th>UniqueID</th>\n",
              "      <th>LandUse</th>\n",
              "      <th>PropertyAddress</th>\n",
              "      <th>SaleDate</th>\n",
              "      <th>SalePrice</th>\n",
              "      <th>Acre</th>\n",
              "      <th>LandValue</th>\n",
              "      <th>BuildingValue</th>\n",
              "      <th>TotalValue</th>\n",
              "      <th>YearBuilt</th>\n",
              "      <th>Bedrooms</th>\n",
              "      <th>FullBathroom</th>\n",
              "      <th>HalfBathroom</th>\n",
              "      <th>Year</th>\n",
              "      <th>Month</th>\n",
              "      <th>Day</th>\n",
              "    </tr>\n",
              "  </thead>\n",
              "  <tbody>\n",
              "    <tr>\n",
              "      <th>0</th>\n",
              "      <td>2045</td>\n",
              "      <td>SINGLE FAMILY</td>\n",
              "      <td>1808  FOX CHASE DR, GOODLETTSVILLE</td>\n",
              "      <td>2013-04-09</td>\n",
              "      <td>240000</td>\n",
              "      <td>2.300000</td>\n",
              "      <td>50000.000000</td>\n",
              "      <td>168200.000000</td>\n",
              "      <td>235700.000000</td>\n",
              "      <td>1986.000000</td>\n",
              "      <td>3.000000</td>\n",
              "      <td>3.000000</td>\n",
              "      <td>0.000000</td>\n",
              "      <td>2013</td>\n",
              "      <td>4</td>\n",
              "      <td>9</td>\n",
              "    </tr>\n",
              "    <tr>\n",
              "      <th>1</th>\n",
              "      <td>16918</td>\n",
              "      <td>SINGLE FAMILY</td>\n",
              "      <td>1832  FOX CHASE DR, GOODLETTSVILLE</td>\n",
              "      <td>2014-06-10</td>\n",
              "      <td>366000</td>\n",
              "      <td>3.500000</td>\n",
              "      <td>50000.000000</td>\n",
              "      <td>264100.000000</td>\n",
              "      <td>319000.000000</td>\n",
              "      <td>1998.000000</td>\n",
              "      <td>3.000000</td>\n",
              "      <td>3.000000</td>\n",
              "      <td>2.000000</td>\n",
              "      <td>2014</td>\n",
              "      <td>6</td>\n",
              "      <td>10</td>\n",
              "    </tr>\n",
              "    <tr>\n",
              "      <th>2</th>\n",
              "      <td>54582</td>\n",
              "      <td>SINGLE FAMILY</td>\n",
              "      <td>1864 FOX CHASE  DR, GOODLETTSVILLE</td>\n",
              "      <td>2016-09-26</td>\n",
              "      <td>435000</td>\n",
              "      <td>2.900000</td>\n",
              "      <td>50000.000000</td>\n",
              "      <td>216200.000000</td>\n",
              "      <td>298000.000000</td>\n",
              "      <td>1987.000000</td>\n",
              "      <td>4.000000</td>\n",
              "      <td>3.000000</td>\n",
              "      <td>0.000000</td>\n",
              "      <td>2016</td>\n",
              "      <td>9</td>\n",
              "      <td>26</td>\n",
              "    </tr>\n",
              "    <tr>\n",
              "      <th>3</th>\n",
              "      <td>43070</td>\n",
              "      <td>SINGLE FAMILY</td>\n",
              "      <td>1853  FOX CHASE DR, GOODLETTSVILLE</td>\n",
              "      <td>2016-01-29</td>\n",
              "      <td>255000</td>\n",
              "      <td>2.600000</td>\n",
              "      <td>50000.000000</td>\n",
              "      <td>147300.000000</td>\n",
              "      <td>197300.000000</td>\n",
              "      <td>1985.000000</td>\n",
              "      <td>3.000000</td>\n",
              "      <td>3.000000</td>\n",
              "      <td>0.000000</td>\n",
              "      <td>2016</td>\n",
              "      <td>1</td>\n",
              "      <td>29</td>\n",
              "    </tr>\n",
              "    <tr>\n",
              "      <th>4</th>\n",
              "      <td>22714</td>\n",
              "      <td>SINGLE FAMILY</td>\n",
              "      <td>1829  FOX CHASE DR, GOODLETTSVILLE</td>\n",
              "      <td>2014-10-10</td>\n",
              "      <td>278000</td>\n",
              "      <td>2.000000</td>\n",
              "      <td>50000.000000</td>\n",
              "      <td>152300.000000</td>\n",
              "      <td>202300.000000</td>\n",
              "      <td>1984.000000</td>\n",
              "      <td>4.000000</td>\n",
              "      <td>3.000000</td>\n",
              "      <td>0.000000</td>\n",
              "      <td>2014</td>\n",
              "      <td>10</td>\n",
              "      <td>10</td>\n",
              "    </tr>\n",
              "    <tr>\n",
              "      <th>...</th>\n",
              "      <td>...</td>\n",
              "      <td>...</td>\n",
              "      <td>...</td>\n",
              "      <td>...</td>\n",
              "      <td>...</td>\n",
              "      <td>...</td>\n",
              "      <td>...</td>\n",
              "      <td>...</td>\n",
              "      <td>...</td>\n",
              "      <td>...</td>\n",
              "      <td>...</td>\n",
              "      <td>...</td>\n",
              "      <td>...</td>\n",
              "      <td>...</td>\n",
              "      <td>...</td>\n",
              "      <td>...</td>\n",
              "    </tr>\n",
              "    <tr>\n",
              "      <th>56472</th>\n",
              "      <td>30469</td>\n",
              "      <td>SINGLE FAMILY</td>\n",
              "      <td>1435  WINDING CREEK DR, NOLENSVILLE</td>\n",
              "      <td>2015-05-27</td>\n",
              "      <td>157500</td>\n",
              "      <td>0.498923</td>\n",
              "      <td>69068.557601</td>\n",
              "      <td>160784.677109</td>\n",
              "      <td>232375.398847</td>\n",
              "      <td>1963.744899</td>\n",
              "      <td>3.089912</td>\n",
              "      <td>1.886014</td>\n",
              "      <td>0.283921</td>\n",
              "      <td>2015</td>\n",
              "      <td>5</td>\n",
              "      <td>27</td>\n",
              "    </tr>\n",
              "    <tr>\n",
              "      <th>56473</th>\n",
              "      <td>27707</td>\n",
              "      <td>SINGLE FAMILY</td>\n",
              "      <td>1423  WINDING CREEK DR, NOLENSVILLE</td>\n",
              "      <td>2015-03-02</td>\n",
              "      <td>145000</td>\n",
              "      <td>0.498923</td>\n",
              "      <td>69068.557601</td>\n",
              "      <td>160784.677109</td>\n",
              "      <td>232375.398847</td>\n",
              "      <td>1963.744899</td>\n",
              "      <td>3.089912</td>\n",
              "      <td>1.886014</td>\n",
              "      <td>0.283921</td>\n",
              "      <td>2015</td>\n",
              "      <td>3</td>\n",
              "      <td>2</td>\n",
              "    </tr>\n",
              "    <tr>\n",
              "      <th>56474</th>\n",
              "      <td>52709</td>\n",
              "      <td>VACANT RESIDENTIAL LAND</td>\n",
              "      <td>1804 GRACE POINT  LN, NOLENSVILLE</td>\n",
              "      <td>2016-08-16</td>\n",
              "      <td>234611</td>\n",
              "      <td>0.498923</td>\n",
              "      <td>69068.557601</td>\n",
              "      <td>160784.677109</td>\n",
              "      <td>232375.398847</td>\n",
              "      <td>1963.744899</td>\n",
              "      <td>3.089912</td>\n",
              "      <td>1.886014</td>\n",
              "      <td>0.283921</td>\n",
              "      <td>2016</td>\n",
              "      <td>8</td>\n",
              "      <td>16</td>\n",
              "    </tr>\n",
              "    <tr>\n",
              "      <th>56475</th>\n",
              "      <td>54042</td>\n",
              "      <td>VACANT RESIDENTIAL LAND</td>\n",
              "      <td>1709 PARK TERRACE  LN, NOLENSVILLE</td>\n",
              "      <td>2016-09-07</td>\n",
              "      <td>93844</td>\n",
              "      <td>0.498923</td>\n",
              "      <td>69068.557601</td>\n",
              "      <td>160784.677109</td>\n",
              "      <td>232375.398847</td>\n",
              "      <td>1963.744899</td>\n",
              "      <td>3.089912</td>\n",
              "      <td>1.886014</td>\n",
              "      <td>0.283921</td>\n",
              "      <td>2016</td>\n",
              "      <td>9</td>\n",
              "      <td>7</td>\n",
              "    </tr>\n",
              "    <tr>\n",
              "      <th>56476</th>\n",
              "      <td>54043</td>\n",
              "      <td>VACANT RESIDENTIAL LAND</td>\n",
              "      <td>1713 PARK TERRACE  LN, NOLENSVILLE</td>\n",
              "      <td>2016-09-07</td>\n",
              "      <td>93844</td>\n",
              "      <td>0.498923</td>\n",
              "      <td>69068.557601</td>\n",
              "      <td>160784.677109</td>\n",
              "      <td>232375.398847</td>\n",
              "      <td>1963.744899</td>\n",
              "      <td>3.089912</td>\n",
              "      <td>1.886014</td>\n",
              "      <td>0.283921</td>\n",
              "      <td>2016</td>\n",
              "      <td>9</td>\n",
              "      <td>7</td>\n",
              "    </tr>\n",
              "  </tbody>\n",
              "</table>\n",
              "<p>56477 rows × 16 columns</p>\n",
              "</div>\n",
              "      <button class=\"colab-df-convert\" onclick=\"convertToInteractive('df-964712e3-4ded-4585-a628-bec73f2ed2e5')\"\n",
              "              title=\"Convert this dataframe to an interactive table.\"\n",
              "              style=\"display:none;\">\n",
              "        \n",
              "  <svg xmlns=\"http://www.w3.org/2000/svg\" height=\"24px\"viewBox=\"0 0 24 24\"\n",
              "       width=\"24px\">\n",
              "    <path d=\"M0 0h24v24H0V0z\" fill=\"none\"/>\n",
              "    <path d=\"M18.56 5.44l.94 2.06.94-2.06 2.06-.94-2.06-.94-.94-2.06-.94 2.06-2.06.94zm-11 1L8.5 8.5l.94-2.06 2.06-.94-2.06-.94L8.5 2.5l-.94 2.06-2.06.94zm10 10l.94 2.06.94-2.06 2.06-.94-2.06-.94-.94-2.06-.94 2.06-2.06.94z\"/><path d=\"M17.41 7.96l-1.37-1.37c-.4-.4-.92-.59-1.43-.59-.52 0-1.04.2-1.43.59L10.3 9.45l-7.72 7.72c-.78.78-.78 2.05 0 2.83L4 21.41c.39.39.9.59 1.41.59.51 0 1.02-.2 1.41-.59l7.78-7.78 2.81-2.81c.8-.78.8-2.07 0-2.86zM5.41 20L4 18.59l7.72-7.72 1.47 1.35L5.41 20z\"/>\n",
              "  </svg>\n",
              "      </button>\n",
              "      \n",
              "  <style>\n",
              "    .colab-df-container {\n",
              "      display:flex;\n",
              "      flex-wrap:wrap;\n",
              "      gap: 12px;\n",
              "    }\n",
              "\n",
              "    .colab-df-convert {\n",
              "      background-color: #E8F0FE;\n",
              "      border: none;\n",
              "      border-radius: 50%;\n",
              "      cursor: pointer;\n",
              "      display: none;\n",
              "      fill: #1967D2;\n",
              "      height: 32px;\n",
              "      padding: 0 0 0 0;\n",
              "      width: 32px;\n",
              "    }\n",
              "\n",
              "    .colab-df-convert:hover {\n",
              "      background-color: #E2EBFA;\n",
              "      box-shadow: 0px 1px 2px rgba(60, 64, 67, 0.3), 0px 1px 3px 1px rgba(60, 64, 67, 0.15);\n",
              "      fill: #174EA6;\n",
              "    }\n",
              "\n",
              "    [theme=dark] .colab-df-convert {\n",
              "      background-color: #3B4455;\n",
              "      fill: #D2E3FC;\n",
              "    }\n",
              "\n",
              "    [theme=dark] .colab-df-convert:hover {\n",
              "      background-color: #434B5C;\n",
              "      box-shadow: 0px 1px 3px 1px rgba(0, 0, 0, 0.15);\n",
              "      filter: drop-shadow(0px 1px 2px rgba(0, 0, 0, 0.3));\n",
              "      fill: #FFFFFF;\n",
              "    }\n",
              "  </style>\n",
              "\n",
              "      <script>\n",
              "        const buttonEl =\n",
              "          document.querySelector('#df-964712e3-4ded-4585-a628-bec73f2ed2e5 button.colab-df-convert');\n",
              "        buttonEl.style.display =\n",
              "          google.colab.kernel.accessAllowed ? 'block' : 'none';\n",
              "\n",
              "        async function convertToInteractive(key) {\n",
              "          const element = document.querySelector('#df-964712e3-4ded-4585-a628-bec73f2ed2e5');\n",
              "          const dataTable =\n",
              "            await google.colab.kernel.invokeFunction('convertToInteractive',\n",
              "                                                     [key], {});\n",
              "          if (!dataTable) return;\n",
              "\n",
              "          const docLinkHtml = 'Like what you see? Visit the ' +\n",
              "            '<a target=\"_blank\" href=https://colab.research.google.com/notebooks/data_table.ipynb>data table notebook</a>'\n",
              "            + ' to learn more about interactive tables.';\n",
              "          element.innerHTML = '';\n",
              "          dataTable['output_type'] = 'display_data';\n",
              "          await google.colab.output.renderOutput(dataTable, element);\n",
              "          const docLink = document.createElement('div');\n",
              "          docLink.innerHTML = docLinkHtml;\n",
              "          element.appendChild(docLink);\n",
              "        }\n",
              "      </script>\n",
              "    </div>\n",
              "  </div>\n",
              "  "
            ]
          },
          "metadata": {},
          "execution_count": 8
        }
      ]
    },
    {
      "cell_type": "markdown",
      "source": [
        "**4. Extract the pin number from the property address**"
      ],
      "metadata": {
        "id": "0xv44SjeM4W3"
      }
    },
    {
      "cell_type": "code",
      "source": [
        "data['Pin'] = data['PropertyAddress'].str[:4]\n",
        "data['Pin']"
      ],
      "metadata": {
        "id": "dk9TvE_PMTxS",
        "colab": {
          "base_uri": "https://localhost:8080/"
        },
        "outputId": "3a853c09-85d4-4ae1-a2dc-240443ef6b9b"
      },
      "execution_count": 9,
      "outputs": [
        {
          "output_type": "execute_result",
          "data": {
            "text/plain": [
              "0        1808\n",
              "1        1832\n",
              "2        1864\n",
              "3        1853\n",
              "4        1829\n",
              "         ... \n",
              "56472    1435\n",
              "56473    1423\n",
              "56474    1804\n",
              "56475    1709\n",
              "56476    1713\n",
              "Name: Pin, Length: 56477, dtype: object"
            ]
          },
          "metadata": {},
          "execution_count": 9
        }
      ]
    },
    {
      "cell_type": "markdown",
      "source": [
        "**EXPLORATORY DATA ANALYSIS**"
      ],
      "metadata": {
        "id": "gZLusby9Pyn-"
      }
    },
    {
      "cell_type": "markdown",
      "source": [
        "1. How has the price of properties changed over the years\n"
      ],
      "metadata": {
        "id": "lIqHWvIgP3G4"
      }
    },
    {
      "cell_type": "code",
      "source": [
        "sales_grouped_data = data.groupby('Year')['SalePrice'].count()\n",
        "sales_grouped_data"
      ],
      "metadata": {
        "id": "-lsXkAEUP1XB",
        "colab": {
          "base_uri": "https://localhost:8080/"
        },
        "outputId": "8cbde8bf-e98c-47f3-a531-d87874481f7c"
      },
      "execution_count": 10,
      "outputs": [
        {
          "output_type": "execute_result",
          "data": {
            "text/plain": [
              "Year\n",
              "2013    11292\n",
              "2014    14283\n",
              "2015    16829\n",
              "2016    14071\n",
              "2019        2\n",
              "Name: SalePrice, dtype: int64"
            ]
          },
          "metadata": {},
          "execution_count": 10
        }
      ]
    },
    {
      "cell_type": "code",
      "source": [
        "sns.lineplot(x=sales_grouped_data.index, y =sales_grouped_data.values)\n"
      ],
      "metadata": {
        "id": "9FPKUHQYRNzx",
        "colab": {
          "base_uri": "https://localhost:8080/",
          "height": 304
        },
        "outputId": "767ce378-9326-466e-bd15-b466dc47f36e"
      },
      "execution_count": 11,
      "outputs": [
        {
          "output_type": "execute_result",
          "data": {
            "text/plain": [
              "<matplotlib.axes._subplots.AxesSubplot at 0x7f4a214eb6d0>"
            ]
          },
          "metadata": {},
          "execution_count": 11
        },
        {
          "output_type": "display_data",
          "data": {
            "text/plain": [
              "<Figure size 432x288 with 1 Axes>"
            ],
            "image/png": "[encoded data removed]"
          },
          "metadata": {}
        }
      ]
    },
    {
      "cell_type": "markdown",
      "source": [
        "As the above line plot clearly suggests, the sale prices of houses peaked around the year 2015, and ever since have rapidly declined. "
      ],
      "metadata": {
        "id": "fT2vAbXOIgnd"
      }
    },
    {
      "cell_type": "markdown",
      "source": [
        "2. Does a specific month or span of months have the highest property prices?\n",
        " "
      ],
      "metadata": {
        "id": "CR9NjU6lQkpW"
      }
    },
    {
      "cell_type": "code",
      "source": [
        "month_grouped_data = data.groupby('Month')['SalePrice'].count()\n",
        "month_grouped_data"
      ],
      "metadata": {
        "id": "nXP1kFW3S2am",
        "colab": {
          "base_uri": "https://localhost:8080/"
        },
        "outputId": "45332758-5fd7-45b0-9906-e4d3127c7b31"
      },
      "execution_count": 12,
      "outputs": [
        {
          "output_type": "execute_result",
          "data": {
            "text/plain": [
              "Month\n",
              "1     3227\n",
              "2     2778\n",
              "3     4474\n",
              "4     5223\n",
              "5     5932\n",
              "6     6593\n",
              "7     5471\n",
              "8     5620\n",
              "9     5451\n",
              "10    4822\n",
              "11    3114\n",
              "12    3772\n",
              "Name: SalePrice, dtype: int64"
            ]
          },
          "metadata": {},
          "execution_count": 12
        }
      ]
    },
    {
      "cell_type": "code",
      "source": [
        "sns.barplot(x=month_grouped_data.index,y=month_grouped_data.values)"
      ],
      "metadata": {
        "id": "JD0tKMyEEkrM",
        "colab": {
          "base_uri": "https://localhost:8080/",
          "height": 302
        },
        "outputId": "cb59b973-b6ce-439a-92af-05cb2c41e232"
      },
      "execution_count": 13,
      "outputs": [
        {
          "output_type": "execute_result",
          "data": {
            "text/plain": [
              "<matplotlib.axes._subplots.AxesSubplot at 0x7f4a214f1550>"
            ]
          },
          "metadata": {},
          "execution_count": 13
        },
        {
          "output_type": "display_data",
          "data": {
            "text/plain": [
              "<Figure size 432x288 with 1 Axes>"
            ],
            "image/png": "[encoded data removed]"
          },
          "metadata": {}
        }
      ]
    },
    {
      "cell_type": "markdown",
      "source": [
        "From the above barplot, we can make out that the sales are at their peak during the middle of the year, especially around June. "
      ],
      "metadata": {
        "id": "NRRHOt6QIttc"
      }
    },
    {
      "cell_type": "markdown",
      "source": [
        "3. For what purpose were the properties generally purchased?\n"
      ],
      "metadata": {
        "id": "VHwa8ZPlQksM"
      }
    },
    {
      "cell_type": "code",
      "source": [
        "data['LandUse'].unique()"
      ],
      "metadata": {
        "id": "_tnuEZrRTK2E",
        "colab": {
          "base_uri": "https://localhost:8080/"
        },
        "outputId": "1fc1755d-fa19-4e96-f53c-ed2f827f8e5f"
      },
      "execution_count": 14,
      "outputs": [
        {
          "output_type": "execute_result",
          "data": {
            "text/plain": [
              "array(['SINGLE FAMILY', 'RESIDENTIAL CONDO', 'VACANT RURAL LAND',\n",
              "       'VACANT RES LAND', 'DUPLEX', 'VACANT RESIDENTIAL LAND', 'CHURCH',\n",
              "       'ZERO LOT LINE', 'RESIDENTIAL COMBO/MISC', 'PARSONAGE',\n",
              "       'OFFICE BLDG (ONE OR TWO STORIES)',\n",
              "       'GREENBELT/RES_x000D_\\nGRRENBELT/RES', 'MOBILE HOME',\n",
              "       'PARKING LOT', 'CLUB/UNION HALL/LODGE', 'TRIPLEX',\n",
              "       'VACANT ZONED MULTI FAMILY', 'SPLIT CLASS', 'CONDO', 'QUADPLEX',\n",
              "       'LIGHT MANUFACTURING', 'FOREST', 'CONVENIENCE MARKET WITHOUT GAS',\n",
              "       'DORMITORY/BOARDING HOUSE', 'GREENBELT', 'DAY CARE CENTER',\n",
              "       'METRO OTHER THAN OFC, SCHOOL,HOSP, OR PARK',\n",
              "       'TERMINAL/DISTRIBUTION WAREHOUSE', 'NIGHTCLUB/LOUNGE',\n",
              "       'RESTURANT/CAFETERIA', 'VACANT COMMERCIAL LAND',\n",
              "       'CONDOMINIUM OFC  OR OTHER COM CONDO', 'STRIP SHOPPING CENTER',\n",
              "       'VACANT RESIENTIAL LAND', 'APARTMENT: LOW RISE (BUILT SINCE 1960)',\n",
              "       'ONE STORY GENERAL RETAIL STORE', 'NON-PROFIT CHARITABLE SERVICE',\n",
              "       'SMALL SERVICE SHOP', 'MORTUARY/CEMETERY'], dtype=object)"
            ]
          },
          "metadata": {},
          "execution_count": 14
        }
      ]
    },
    {
      "cell_type": "code",
      "source": [
        "sns.countplot(x='LandUse', data = data)"
      ],
      "metadata": {
        "colab": {
          "base_uri": "https://localhost:8080/",
          "height": 314
        },
        "id": "zQ5vx9vsJmaN",
        "outputId": "d7233d8e-57a2-47c2-e4c9-9b0da46ebc0f"
      },
      "execution_count": 15,
      "outputs": [
        {
          "output_type": "execute_result",
          "data": {
            "text/plain": [
              "<matplotlib.axes._subplots.AxesSubplot at 0x7f4a20e81e90>"
            ]
          },
          "metadata": {},
          "execution_count": 15
        },
        {
          "output_type": "display_data",
          "data": {
            "text/plain": [
              "<Figure size 432x288 with 1 Axes>"
            ],
            "image/png": "[encoded data removed]"
          },
          "metadata": {}
        }
      ]
    },
    {
      "cell_type": "code",
      "source": [
        "purpose_grouped_data = data.groupby('LandUse')['LandUse'].count()\n",
        "purpose_grouped_data.sort_values(ascending = False)"
      ],
      "metadata": {
        "colab": {
          "base_uri": "https://localhost:8080/"
        },
        "id": "cxiylpitJ6SJ",
        "outputId": "1220e49e-9e79-4f2d-c9bf-23cee39da415"
      },
      "execution_count": 16,
      "outputs": [
        {
          "output_type": "execute_result",
          "data": {
            "text/plain": [
              "LandUse\n",
              "SINGLE FAMILY                                 34197\n",
              "RESIDENTIAL CONDO                             14080\n",
              "VACANT RESIDENTIAL LAND                        3547\n",
              "VACANT RES LAND                                1549\n",
              "DUPLEX                                         1373\n",
              "ZERO LOT LINE                                  1048\n",
              "CONDO                                           247\n",
              "RESIDENTIAL COMBO/MISC                           95\n",
              "TRIPLEX                                          92\n",
              "QUADPLEX                                         39\n",
              "CONDOMINIUM OFC  OR OTHER COM CONDO              35\n",
              "CHURCH                                           34\n",
              "MOBILE HOME                                      20\n",
              "DORMITORY/BOARDING HOUSE                         19\n",
              "VACANT COMMERCIAL LAND                           17\n",
              "SPLIT CLASS                                      17\n",
              "PARKING LOT                                      11\n",
              "GREENBELT                                        10\n",
              "FOREST                                           10\n",
              "PARSONAGE                                         6\n",
              "VACANT RESIENTIAL LAND                            3\n",
              "GREENBELT/RES_x000D_\\nGRRENBELT/RES               3\n",
              "VACANT RURAL LAND                                 2\n",
              "VACANT ZONED MULTI FAMILY                         2\n",
              "TERMINAL/DISTRIBUTION WAREHOUSE                   2\n",
              "APARTMENT: LOW RISE (BUILT SINCE 1960)            2\n",
              "RESTURANT/CAFETERIA                               2\n",
              "OFFICE BLDG (ONE OR TWO STORIES)                  2\n",
              "NON-PROFIT CHARITABLE SERVICE                     2\n",
              "DAY CARE CENTER                                   2\n",
              "SMALL SERVICE SHOP                                1\n",
              "STRIP SHOPPING CENTER                             1\n",
              "NIGHTCLUB/LOUNGE                                  1\n",
              "MORTUARY/CEMETERY                                 1\n",
              "METRO OTHER THAN OFC, SCHOOL,HOSP, OR PARK        1\n",
              "LIGHT MANUFACTURING                               1\n",
              "CONVENIENCE MARKET WITHOUT GAS                    1\n",
              "CLUB/UNION HALL/LODGE                             1\n",
              "ONE STORY GENERAL RETAIL STORE                    1\n",
              "Name: LandUse, dtype: int64"
            ]
          },
          "metadata": {},
          "execution_count": 16
        }
      ]
    },
    {
      "cell_type": "markdown",
      "source": [
        "Clearly, from the above arrangement 'SINGLE FAMILY' and 'RESIDENTIAL CONDO' were the major reasons for the purchase of houses."
      ],
      "metadata": {
        "id": "-x9llzbrLGKA"
      }
    },
    {
      "cell_type": "markdown",
      "source": [
        "4. What is the average age of the properties?\n"
      ],
      "metadata": {
        "id": "ApPzERKPQkvK"
      }
    },
    {
      "cell_type": "code",
      "source": [
        "math.trunc(data['Year'].mean())"
      ],
      "metadata": {
        "id": "OhWikqVwS3rh",
        "colab": {
          "base_uri": "https://localhost:8080/"
        },
        "outputId": "65cf4ee0-f415-45a4-cf25-a7d79ebc730a"
      },
      "execution_count": 17,
      "outputs": [
        {
          "output_type": "execute_result",
          "data": {
            "text/plain": [
              "2014"
            ]
          },
          "metadata": {},
          "execution_count": 17
        }
      ]
    },
    {
      "cell_type": "markdown",
      "source": [
        "5. Have the age of houses affected the price?\n"
      ],
      "metadata": {
        "id": "yuQL15IqQkyQ"
      }
    },
    {
      "cell_type": "code",
      "source": [
        "data.head()"
      ],
      "metadata": {
        "id": "EVfbwQ8fS4OH",
        "colab": {
          "base_uri": "https://localhost:8080/",
          "height": 444
        },
        "outputId": "4455e775-27cf-4cba-fb5e-a738d56c1742"
      },
      "execution_count": 18,
      "outputs": [
        {
          "output_type": "execute_result",
          "data": {
            "text/plain": [
              "   UniqueID         LandUse                     PropertyAddress   SaleDate  \\\n",
              "0       2045  SINGLE FAMILY  1808  FOX CHASE DR, GOODLETTSVILLE 2013-04-09   \n",
              "1      16918  SINGLE FAMILY  1832  FOX CHASE DR, GOODLETTSVILLE 2014-06-10   \n",
              "2      54582  SINGLE FAMILY  1864 FOX CHASE  DR, GOODLETTSVILLE 2016-09-26   \n",
              "3      43070  SINGLE FAMILY  1853  FOX CHASE DR, GOODLETTSVILLE 2016-01-29   \n",
              "4      22714  SINGLE FAMILY  1829  FOX CHASE DR, GOODLETTSVILLE 2014-10-10   \n",
              "\n",
              "   SalePrice  Acre  LandValue  BuildingValue  TotalValue  YearBuilt  Bedrooms  \\\n",
              "0     240000   2.3    50000.0       168200.0    235700.0     1986.0       3.0   \n",
              "1     366000   3.5    50000.0       264100.0    319000.0     1998.0       3.0   \n",
              "2     435000   2.9    50000.0       216200.0    298000.0     1987.0       4.0   \n",
              "3     255000   2.6    50000.0       147300.0    197300.0     1985.0       3.0   \n",
              "4     278000   2.0    50000.0       152300.0    202300.0     1984.0       4.0   \n",
              "\n",
              "   FullBathroom  HalfBathroom  Year  Month  Day   Pin  \n",
              "0           3.0           0.0  2013      4    9  1808  \n",
              "1           3.0           2.0  2014      6   10  1832  \n",
              "2           3.0           0.0  2016      9   26  1864  \n",
              "3           3.0           0.0  2016      1   29  1853  \n",
              "4           3.0           0.0  2014     10   10  1829  "
            ],
            "text/html": [
              "\n",
              "  <div id=\"df-8126520d-70f4-4ad8-b0a8-10c0ae714ac6\">\n",
              "    <div class=\"colab-df-container\">\n",
              "      <div>\n",
              "<style scoped>\n",
              "    .dataframe tbody tr th:only-of-type {\n",
              "        vertical-align: middle;\n",
              "    }\n",
              "\n",
              "    .dataframe tbody tr th {\n",
              "        vertical-align: top;\n",
              "    }\n",
              "\n",
              "    .dataframe thead th {\n",
              "        text-align: right;\n",
              "    }\n",
              "</style>\n",
              "<table border=\"1\" class=\"dataframe\">\n",
              "  <thead>\n",
              "    <tr style=\"text-align: right;\">\n",
              "      <th></th>\n",
              "      <th>UniqueID</th>\n",
              "      <th>LandUse</th>\n",
              "      <th>PropertyAddress</th>\n",
              "      <th>SaleDate</th>\n",
              "      <th>SalePrice</th>\n",
              "      <th>Acre</th>\n",
              "      <th>LandValue</th>\n",
              "      <th>BuildingValue</th>\n",
              "      <th>TotalValue</th>\n",
              "      <th>YearBuilt</th>\n",
              "      <th>Bedrooms</th>\n",
              "      <th>FullBathroom</th>\n",
              "      <th>HalfBathroom</th>\n",
              "      <th>Year</th>\n",
              "      <th>Month</th>\n",
              "      <th>Day</th>\n",
              "      <th>Pin</th>\n",
              "    </tr>\n",
              "  </thead>\n",
              "  <tbody>\n",
              "    <tr>\n",
              "      <th>0</th>\n",
              "      <td>2045</td>\n",
              "      <td>SINGLE FAMILY</td>\n",
              "      <td>1808  FOX CHASE DR, GOODLETTSVILLE</td>\n",
              "      <td>2013-04-09</td>\n",
              "      <td>240000</td>\n",
              "      <td>2.3</td>\n",
              "      <td>50000.0</td>\n",
              "      <td>168200.0</td>\n",
              "      <td>235700.0</td>\n",
              "      <td>1986.0</td>\n",
              "      <td>3.0</td>\n",
              "      <td>3.0</td>\n",
              "      <td>0.0</td>\n",
              "      <td>2013</td>\n",
              "      <td>4</td>\n",
              "      <td>9</td>\n",
              "      <td>1808</td>\n",
              "    </tr>\n",
              "    <tr>\n",
              "      <th>1</th>\n",
              "      <td>16918</td>\n",
              "      <td>SINGLE FAMILY</td>\n",
              "      <td>1832  FOX CHASE DR, GOODLETTSVILLE</td>\n",
              "      <td>2014-06-10</td>\n",
              "      <td>366000</td>\n",
              "      <td>3.5</td>\n",
              "      <td>50000.0</td>\n",
              "      <td>264100.0</td>\n",
              "      <td>319000.0</td>\n",
              "      <td>1998.0</td>\n",
              "      <td>3.0</td>\n",
              "      <td>3.0</td>\n",
              "      <td>2.0</td>\n",
              "      <td>2014</td>\n",
              "      <td>6</td>\n",
              "      <td>10</td>\n",
              "      <td>1832</td>\n",
              "    </tr>\n",
              "    <tr>\n",
              "      <th>2</th>\n",
              "      <td>54582</td>\n",
              "      <td>SINGLE FAMILY</td>\n",
              "      <td>1864 FOX CHASE  DR, GOODLETTSVILLE</td>\n",
              "      <td>2016-09-26</td>\n",
              "      <td>435000</td>\n",
              "      <td>2.9</td>\n",
              "      <td>50000.0</td>\n",
              "      <td>216200.0</td>\n",
              "      <td>298000.0</td>\n",
              "      <td>1987.0</td>\n",
              "      <td>4.0</td>\n",
              "      <td>3.0</td>\n",
              "      <td>0.0</td>\n",
              "      <td>2016</td>\n",
              "      <td>9</td>\n",
              "      <td>26</td>\n",
              "      <td>1864</td>\n",
              "    </tr>\n",
              "    <tr>\n",
              "      <th>3</th>\n",
              "      <td>43070</td>\n",
              "      <td>SINGLE FAMILY</td>\n",
              "      <td>1853  FOX CHASE DR, GOODLETTSVILLE</td>\n",
              "      <td>2016-01-29</td>\n",
              "      <td>255000</td>\n",
              "      <td>2.6</td>\n",
              "      <td>50000.0</td>\n",
              "      <td>147300.0</td>\n",
              "      <td>197300.0</td>\n",
              "      <td>1985.0</td>\n",
              "      <td>3.0</td>\n",
              "      <td>3.0</td>\n",
              "      <td>0.0</td>\n",
              "      <td>2016</td>\n",
              "      <td>1</td>\n",
              "      <td>29</td>\n",
              "      <td>1853</td>\n",
              "    </tr>\n",
              "    <tr>\n",
              "      <th>4</th>\n",
              "      <td>22714</td>\n",
              "      <td>SINGLE FAMILY</td>\n",
              "      <td>1829  FOX CHASE DR, GOODLETTSVILLE</td>\n",
              "      <td>2014-10-10</td>\n",
              "      <td>278000</td>\n",
              "      <td>2.0</td>\n",
              "      <td>50000.0</td>\n",
              "      <td>152300.0</td>\n",
              "      <td>202300.0</td>\n",
              "      <td>1984.0</td>\n",
              "      <td>4.0</td>\n",
              "      <td>3.0</td>\n",
              "      <td>0.0</td>\n",
              "      <td>2014</td>\n",
              "      <td>10</td>\n",
              "      <td>10</td>\n",
              "      <td>1829</td>\n",
              "    </tr>\n",
              "  </tbody>\n",
              "</table>\n",
              "</div>\n",
              "      <button class=\"colab-df-convert\" onclick=\"convertToInteractive('df-8126520d-70f4-4ad8-b0a8-10c0ae714ac6')\"\n",
              "              title=\"Convert this dataframe to an interactive table.\"\n",
              "              style=\"display:none;\">\n",
              "        \n",
              "  <svg xmlns=\"http://www.w3.org/2000/svg\" height=\"24px\"viewBox=\"0 0 24 24\"\n",
              "       width=\"24px\">\n",
              "    <path d=\"M0 0h24v24H0V0z\" fill=\"none\"/>\n",
              "    <path d=\"M18.56 5.44l.94 2.06.94-2.06 2.06-.94-2.06-.94-.94-2.06-.94 2.06-2.06.94zm-11 1L8.5 8.5l.94-2.06 2.06-.94-2.06-.94L8.5 2.5l-.94 2.06-2.06.94zm10 10l.94 2.06.94-2.06 2.06-.94-2.06-.94-.94-2.06-.94 2.06-2.06.94z\"/><path d=\"M17.41 7.96l-1.37-1.37c-.4-.4-.92-.59-1.43-.59-.52 0-1.04.2-1.43.59L10.3 9.45l-7.72 7.72c-.78.78-.78 2.05 0 2.83L4 21.41c.39.39.9.59 1.41.59.51 0 1.02-.2 1.41-.59l7.78-7.78 2.81-2.81c.8-.78.8-2.07 0-2.86zM5.41 20L4 18.59l7.72-7.72 1.47 1.35L5.41 20z\"/>\n",
              "  </svg>\n",
              "      </button>\n",
              "      \n",
              "  <style>\n",
              "    .colab-df-container {\n",
              "      display:flex;\n",
              "      flex-wrap:wrap;\n",
              "      gap: 12px;\n",
              "    }\n",
              "\n",
              "    .colab-df-convert {\n",
              "      background-color: #E8F0FE;\n",
              "      border: none;\n",
              "      border-radius: 50%;\n",
              "      cursor: pointer;\n",
              "      display: none;\n",
              "      fill: #1967D2;\n",
              "      height: 32px;\n",
              "      padding: 0 0 0 0;\n",
              "      width: 32px;\n",
              "    }\n",
              "\n",
              "    .colab-df-convert:hover {\n",
              "      background-color: #E2EBFA;\n",
              "      box-shadow: 0px 1px 2px rgba(60, 64, 67, 0.3), 0px 1px 3px 1px rgba(60, 64, 67, 0.15);\n",
              "      fill: #174EA6;\n",
              "    }\n",
              "\n",
              "    [theme=dark] .colab-df-convert {\n",
              "      background-color: #3B4455;\n",
              "      fill: #D2E3FC;\n",
              "    }\n",
              "\n",
              "    [theme=dark] .colab-df-convert:hover {\n",
              "      background-color: #434B5C;\n",
              "      box-shadow: 0px 1px 3px 1px rgba(0, 0, 0, 0.15);\n",
              "      filter: drop-shadow(0px 1px 2px rgba(0, 0, 0, 0.3));\n",
              "      fill: #FFFFFF;\n",
              "    }\n",
              "  </style>\n",
              "\n",
              "      <script>\n",
              "        const buttonEl =\n",
              "          document.querySelector('#df-8126520d-70f4-4ad8-b0a8-10c0ae714ac6 button.colab-df-convert');\n",
              "        buttonEl.style.display =\n",
              "          google.colab.kernel.accessAllowed ? 'block' : 'none';\n",
              "\n",
              "        async function convertToInteractive(key) {\n",
              "          const element = document.querySelector('#df-8126520d-70f4-4ad8-b0a8-10c0ae714ac6');\n",
              "          const dataTable =\n",
              "            await google.colab.kernel.invokeFunction('convertToInteractive',\n",
              "                                                     [key], {});\n",
              "          if (!dataTable) return;\n",
              "\n",
              "          const docLinkHtml = 'Like what you see? Visit the ' +\n",
              "            '<a target=\"_blank\" href=https://colab.research.google.com/notebooks/data_table.ipynb>data table notebook</a>'\n",
              "            + ' to learn more about interactive tables.';\n",
              "          element.innerHTML = '';\n",
              "          dataTable['output_type'] = 'display_data';\n",
              "          await google.colab.output.renderOutput(dataTable, element);\n",
              "          const docLink = document.createElement('div');\n",
              "          docLink.innerHTML = docLinkHtml;\n",
              "          element.appendChild(docLink);\n",
              "        }\n",
              "      </script>\n",
              "    </div>\n",
              "  </div>\n",
              "  "
            ]
          },
          "metadata": {},
          "execution_count": 18
        }
      ]
    },
    {
      "cell_type": "code",
      "source": [
        "age_grouped_data = data.groupby('YearBuilt')['SalePrice'].count()\n",
        "age_grouped_data"
      ],
      "metadata": {
        "id": "81AgJmRG0vR3",
        "colab": {
          "base_uri": "https://localhost:8080/"
        },
        "outputId": "3ac7ec83-6c42-4435-e3b8-bb748da5f274"
      },
      "execution_count": 19,
      "outputs": [
        {
          "output_type": "execute_result",
          "data": {
            "text/plain": [
              "YearBuilt\n",
              "1799.0      1\n",
              "1832.0      1\n",
              "1870.0      2\n",
              "1880.0      1\n",
              "1890.0      1\n",
              "         ... \n",
              "2013.0    297\n",
              "2014.0    526\n",
              "2015.0    712\n",
              "2016.0    600\n",
              "2017.0     13\n",
              "Name: SalePrice, Length: 127, dtype: int64"
            ]
          },
          "metadata": {},
          "execution_count": 19
        }
      ]
    },
    {
      "cell_type": "code",
      "source": [
        "sns.lineplot(x=age_grouped_data.index, y=age_grouped_data.values)"
      ],
      "metadata": {
        "id": "91LW4FgR0ve_",
        "colab": {
          "base_uri": "https://localhost:8080/",
          "height": 302
        },
        "outputId": "6e272cab-1eb5-464a-ff82-5b5a264f48b5"
      },
      "execution_count": 20,
      "outputs": [
        {
          "output_type": "execute_result",
          "data": {
            "text/plain": [
              "<matplotlib.axes._subplots.AxesSubplot at 0x7f4a2056e390>"
            ]
          },
          "metadata": {},
          "execution_count": 20
        },
        {
          "output_type": "display_data",
          "data": {
            "text/plain": [
              "<Figure size 432x288 with 1 Axes>"
            ],
            "image/png": "[encoded data removed]"
          },
          "metadata": {}
        }
      ]
    },
    {
      "cell_type": "code",
      "source": [
        "sns.lineplot(y=age_grouped_data.index, x=age_grouped_data.values)"
      ],
      "metadata": {
        "id": "cnp-ohhxFQY6",
        "colab": {
          "base_uri": "https://localhost:8080/",
          "height": 289
        },
        "outputId": "a30c3018-d2b4-4746-d0e8-c47bce68170f"
      },
      "execution_count": 21,
      "outputs": [
        {
          "output_type": "execute_result",
          "data": {
            "text/plain": [
              "<matplotlib.axes._subplots.AxesSubplot at 0x7f4a20615750>"
            ]
          },
          "metadata": {},
          "execution_count": 21
        },
        {
          "output_type": "display_data",
          "data": {
            "text/plain": [
              "<Figure size 432x288 with 1 Axes>"
            ],
            "image/png": "[encoded data removed]"
          },
          "metadata": {}
        }
      ]
    },
    {
      "cell_type": "markdown",
      "source": [
        "6. Have the number of rooms in the house affected the price?\n"
      ],
      "metadata": {
        "id": "37H5ILObQk09"
      }
    },
    {
      "cell_type": "code",
      "source": [
        "data['TotalRooms'] = data['Bedrooms'] + data['FullBathroom'] + data['HalfBathroom']\n",
        "data['TotalRooms']"
      ],
      "metadata": {
        "id": "eCxmhd16S4rq",
        "colab": {
          "base_uri": "https://localhost:8080/"
        },
        "outputId": "59d491e0-ccf1-4853-a72a-ac58b4e468ab"
      },
      "execution_count": 22,
      "outputs": [
        {
          "output_type": "execute_result",
          "data": {
            "text/plain": [
              "0        6.000000\n",
              "1        8.000000\n",
              "2        7.000000\n",
              "3        6.000000\n",
              "4        7.000000\n",
              "           ...   \n",
              "56472    5.259848\n",
              "56473    5.259848\n",
              "56474    5.259848\n",
              "56475    5.259848\n",
              "56476    5.259848\n",
              "Name: TotalRooms, Length: 56477, dtype: float64"
            ]
          },
          "metadata": {},
          "execution_count": 22
        }
      ]
    },
    {
      "cell_type": "code",
      "source": [
        "rooms_grouped_data = data.groupby('TotalRooms')['SalePrice'].count()\n",
        "rooms_grouped_data"
      ],
      "metadata": {
        "id": "MVojXCRWaprQ",
        "colab": {
          "base_uri": "https://localhost:8080/"
        },
        "outputId": "b5e8943d-2613-4c0b-edf5-00f0b92ec411"
      },
      "execution_count": 23,
      "outputs": [
        {
          "output_type": "execute_result",
          "data": {
            "text/plain": [
              "TotalRooms\n",
              "0.000000        40\n",
              "1.000000         2\n",
              "2.000000        95\n",
              "3.000000      3450\n",
              "3.089912       118\n",
              "3.283921         1\n",
              "4.000000      4243\n",
              "4.283921         7\n",
              "5.000000      7366\n",
              "5.169936         1\n",
              "5.259848     32201\n",
              "5.283921        46\n",
              "6.000000      4545\n",
              "6.283921        55\n",
              "7.000000      1961\n",
              "7.283921        18\n",
              "8.000000      1102\n",
              "8.089912         1\n",
              "8.283921         4\n",
              "9.000000       541\n",
              "10.000000      304\n",
              "11.000000      202\n",
              "12.000000       94\n",
              "13.000000       48\n",
              "14.000000       19\n",
              "15.000000        6\n",
              "16.000000        2\n",
              "17.000000        2\n",
              "20.000000        2\n",
              "22.000000        1\n",
              "Name: SalePrice, dtype: int64"
            ]
          },
          "metadata": {},
          "execution_count": 23
        }
      ]
    },
    {
      "cell_type": "code",
      "source": [
        "sns.barplot(x = rooms_grouped_data.index, y = rooms_grouped_data.values)"
      ],
      "metadata": {
        "id": "txs8oE50a_Vf",
        "colab": {
          "base_uri": "https://localhost:8080/",
          "height": 302
        },
        "outputId": "e5439890-c998-4107-82c8-fa07e63816c1"
      },
      "execution_count": 24,
      "outputs": [
        {
          "output_type": "execute_result",
          "data": {
            "text/plain": [
              "<matplotlib.axes._subplots.AxesSubplot at 0x7f4a21590350>"
            ]
          },
          "metadata": {},
          "execution_count": 24
        },
        {
          "output_type": "display_data",
          "data": {
            "text/plain": [
              "<Figure size 432x288 with 1 Axes>"
            ],
            "image/png": "[encoded data removed]"
          },
          "metadata": {}
        }
      ]
    },
    {
      "cell_type": "code",
      "source": [
        "sns.scatterplot(x=rooms_grouped_data.index, y=rooms_grouped_data.values)"
      ],
      "metadata": {
        "id": "QdWHA1gZbT1D",
        "colab": {
          "base_uri": "https://localhost:8080/",
          "height": 302
        },
        "outputId": "563c975e-8744-46cf-97c9-bdeee5bad70e"
      },
      "execution_count": 25,
      "outputs": [
        {
          "output_type": "execute_result",
          "data": {
            "text/plain": [
              "<matplotlib.axes._subplots.AxesSubplot at 0x7f4a21022090>"
            ]
          },
          "metadata": {},
          "execution_count": 25
        },
        {
          "output_type": "display_data",
          "data": {
            "text/plain": [
              "<Figure size 432x288 with 1 Axes>"
            ],
            "image/png": "[encoded data removed]"
          },
          "metadata": {}
        }
      ]
    },
    {
      "cell_type": "code",
      "source": [
        "math.trunc(data['TotalRooms'].mean())"
      ],
      "metadata": {
        "id": "N1JL03wzb_bM",
        "colab": {
          "base_uri": "https://localhost:8080/"
        },
        "outputId": "48bac4c4-24f5-48f0-dd34-041bc2d535fd"
      },
      "execution_count": 26,
      "outputs": [
        {
          "output_type": "execute_result",
          "data": {
            "text/plain": [
              "5"
            ]
          },
          "metadata": {},
          "execution_count": 26
        }
      ]
    },
    {
      "cell_type": "markdown",
      "source": [
        "Here, we make an interesting obervation that the sale prices of houses with 5 rooms is the maximum by a large extent. And, in fact, the the number of houses around 5 also show a considerably high sales price. Since, the mean of all of the number of houses is also 5, it's interesting to note that sales prices tend to be high with an average number of rooms in a house. "
      ],
      "metadata": {
        "id": "w5lX7TPKdIid"
      }
    },
    {
      "cell_type": "markdown",
      "source": [
        "**7. Does the size of the property (no. of acres) have any influence in its price?**\n"
      ],
      "metadata": {
        "id": "wivjL6_dQzJ9"
      }
    },
    {
      "cell_type": "code",
      "source": [
        "property_grouped_data=data.groupby('Acre')['SalePrice'].count()\n",
        "property_grouped_data"
      ],
      "metadata": {
        "id": "EuKzLfhyS5MO",
        "colab": {
          "base_uri": "https://localhost:8080/"
        },
        "outputId": "1f60cd53-3908-4a81-f719-5044a413dd45"
      },
      "execution_count": 27,
      "outputs": [
        {
          "output_type": "execute_result",
          "data": {
            "text/plain": [
              "Acre\n",
              "0.01       4\n",
              "0.02       6\n",
              "0.03       6\n",
              "0.04      12\n",
              "0.05      22\n",
              "          ..\n",
              "47.50      1\n",
              "51.34      1\n",
              "62.96      1\n",
              "68.79      1\n",
              "160.06     1\n",
              "Name: SalePrice, Length: 520, dtype: int64"
            ]
          },
          "metadata": {},
          "execution_count": 27
        }
      ]
    },
    {
      "cell_type": "code",
      "source": [
        "plot = sns.lineplot(x=property_grouped_data.index, y=property_grouped_data.values)"
      ],
      "metadata": {
        "id": "iaG7q6B0d9-6",
        "colab": {
          "base_uri": "https://localhost:8080/",
          "height": 285
        },
        "outputId": "b4371a06-2b90-487c-e3ab-5350e2a5e759"
      },
      "execution_count": 28,
      "outputs": [
        {
          "output_type": "display_data",
          "data": {
            "text/plain": [
              "<Figure size 432x288 with 1 Axes>"
            ],
            "image/png": "[encoded data removed]"
          },
          "metadata": {}
        }
      ]
    },
    {
      "cell_type": "code",
      "source": [
        "plot = sns.lineplot(x=property_grouped_data.index, y=property_grouped_data.values)\n",
        "plot.set(xlim=(0,12))"
      ],
      "metadata": {
        "id": "O2DAH-EfGeMf",
        "colab": {
          "base_uri": "https://localhost:8080/",
          "height": 302
        },
        "outputId": "b3cfd9f6-3d0d-4e14-9797-983f714df94d"
      },
      "execution_count": 29,
      "outputs": [
        {
          "output_type": "execute_result",
          "data": {
            "text/plain": [
              "[(0.0, 12.0)]"
            ]
          },
          "metadata": {},
          "execution_count": 29
        },
        {
          "output_type": "display_data",
          "data": {
            "text/plain": [
              "<Figure size 432x288 with 1 Axes>"
            ],
            "image/png": "[encoded data removed]"
          },
          "metadata": {}
        }
      ]
    },
    {
      "cell_type": "code",
      "source": [
        "plot = sns.lineplot(x=property_grouped_data.index, y=property_grouped_data.values)\n",
        "plot.set(xlim=(0,1))"
      ],
      "metadata": {
        "id": "upkPkh1DGeRP",
        "colab": {
          "base_uri": "https://localhost:8080/",
          "height": 302
        },
        "outputId": "8ce35161-8066-4e41-9154-91bd49b06904"
      },
      "execution_count": 30,
      "outputs": [
        {
          "output_type": "execute_result",
          "data": {
            "text/plain": [
              "[(0.0, 1.0)]"
            ]
          },
          "metadata": {},
          "execution_count": 30
        },
        {
          "output_type": "display_data",
          "data": {
            "text/plain": [
              "<Figure size 432x288 with 1 Axes>"
            ],
            "image/png": "[encoded data removed]"
          },
          "metadata": {}
        }
      ]
    },
    {
      "cell_type": "markdown",
      "source": [
        "8. Are houses located in specific pin numbers expensive over the others?\n"
      ],
      "metadata": {
        "id": "NP7o_f5xQzSE"
      }
    },
    {
      "cell_type": "code",
      "source": [
        "pin_grouped_data = data.groupby('Pin')['SalePrice'].count()\n",
        "pin_grouped_data"
      ],
      "metadata": {
        "id": "USypeA8fS5rv",
        "colab": {
          "base_uri": "https://localhost:8080/"
        },
        "outputId": "caf9634c-9bda-4c91-d26d-d27144084614"
      },
      "execution_count": 31,
      "outputs": [
        {
          "output_type": "execute_result",
          "data": {
            "text/plain": [
              "Pin\n",
              "  12    1\n",
              "  AC    1\n",
              "  HA    1\n",
              "  LO    2\n",
              "  MA    1\n",
              "       ..\n",
              "STRA    1\n",
              "SUNN    1\n",
              "TYNE    1\n",
              "WASH    2\n",
              "WEST    1\n",
              "Name: SalePrice, Length: 6530, dtype: int64"
            ]
          },
          "metadata": {},
          "execution_count": 31
        }
      ]
    },
    {
      "cell_type": "markdown",
      "source": [
        "9. How have house prices changed in the 21st centuary as supposed to 20th centuary."
      ],
      "metadata": {
        "id": "dSfOocK5Qzad"
      }
    },
    {
      "cell_type": "code",
      "source": [
        ""
      ],
      "metadata": {
        "id": "SYtzmNlxS6QK"
      },
      "execution_count": null,
      "outputs": []
    }
  ]
}